{
 "cells": [
  {
   "cell_type": "markdown",
   "source": [
    "# Univariate Probability Spaces\n",
    "## Discrete Domains & Distributions\n",
    "\n",
    "### Definition\n",
    "Let us create a probability distribution of an experiment that simulates a die. In order to do so, we create a subtype of the [jpt.distributions.univariate.Integer](../autoapi/jpt/distributions/univariate/index.html#jpt.distributions.univariate.Integer) class with the range of values that is typical to a fair dice, namely $\\{1, ..., 6\\}$:"
   ],
   "metadata": {
    "collapsed": false
   }
  },
  {
   "cell_type": "code",
   "execution_count": 56,
   "outputs": [
    {
     "data": {
      "text/plain": "jpt.distributions.univariate.Die"
     },
     "execution_count": 56,
     "metadata": {},
     "output_type": "execute_result"
    }
   ],
   "source": [
    "import np as np\n",
    "\n",
    "from jpt.distributions import IntegerType\n",
    "\n",
    "Die = IntegerType('Die', lmin=1, lmax=6)\n",
    "Die"
   ],
   "metadata": {
    "collapsed": false,
    "pycharm": {
     "name": "#%%\n"
    }
   }
  },
  {
   "cell_type": "markdown",
   "source": [
    "[jpt.distributions.IntegerType](../autoapi/jpt/distributions/univariate/index.html#jpt.distributions.univariate.IntegerType) is function that dynamically creates a subclass of ``Integer`` with the passed string as its name and configures it with the respective range of integer values given by its lower and upper bounds passed as ``lmin`` and ``lmax`` arguments, respectively.\n",
    "\n",
    "We can create a specific distribution over these possible outcomes of a toss by instantiating the newly created class and setting the parameters of the distribution object. For example, we create the distribution of a fair dice by assigning all values the uniform distribution and plot it in diagram:"
   ],
   "metadata": {
    "collapsed": false,
    "pycharm": {
     "name": "#%% md\n"
    }
   }
  },
  {
   "cell_type": "code",
   "execution_count": 57,
   "outputs": [
    {
     "data": {
      "text/plain": "<Figure size 640x480 with 1 Axes>",
      "image/png": "[encoded data removed]"
     },
     "metadata": {},
     "output_type": "display_data"
    }
   ],
   "source": [
    "fair_die = Die()\n",
    "fair_die.set([1 / 6] * 6)\n",
    "fair_die.plot(view=True)"
   ],
   "metadata": {
    "collapsed": false,
    "pycharm": {
     "name": "#%%\n"
    }
   }
  },
  {
   "cell_type": "markdown",
   "source": [
    "We can also compute the moments of the distribution like expectation and variance:"
   ],
   "metadata": {
    "collapsed": false,
    "pycharm": {
     "name": "#%% md\n"
    }
   }
  },
  {
   "cell_type": "code",
   "execution_count": 58,
   "outputs": [
    {
     "data": {
      "text/plain": "3.5"
     },
     "execution_count": 58,
     "metadata": {},
     "output_type": "execute_result"
    }
   ],
   "source": [
    "fair_die.expectation()"
   ],
   "metadata": {
    "collapsed": false,
    "pycharm": {
     "name": "#%%\n"
    }
   }
  },
  {
   "cell_type": "code",
   "execution_count": 59,
   "outputs": [
    {
     "data": {
      "text/plain": "2.9166666666666665"
     },
     "execution_count": 59,
     "metadata": {},
     "output_type": "execute_result"
    }
   ],
   "source": [
    "fair_die.variance()"
   ],
   "metadata": {
    "collapsed": false,
    "pycharm": {
     "name": "#%%\n"
    }
   }
  },
  {
   "cell_type": "markdown",
   "source": [
    "We can query for the probability of specific events, e.g. the probability that the result of a dice will be ``1``,"
   ],
   "metadata": {
    "collapsed": false,
    "pycharm": {
     "name": "#%% md\n"
    }
   }
  },
  {
   "cell_type": "code",
   "execution_count": 60,
   "outputs": [
    {
     "data": {
      "text/plain": "0.16666666666666666"
     },
     "execution_count": 60,
     "metadata": {},
     "output_type": "execute_result"
    }
   ],
   "source": [
    "fair_die.p(1)"
   ],
   "metadata": {
    "collapsed": false,
    "pycharm": {
     "name": "#%%\n"
    }
   }
  },
  {
   "cell_type": "markdown",
   "source": [
    "or that the result will be greater than ``3``"
   ],
   "metadata": {
    "collapsed": false,
    "pycharm": {
     "name": "#%% md\n"
    }
   }
  },
  {
   "cell_type": "code",
   "execution_count": 61,
   "outputs": [
    {
     "data": {
      "text/plain": "0.5"
     },
     "execution_count": 61,
     "metadata": {},
     "output_type": "execute_result"
    }
   ],
   "source": [
    "fair_die.p({4, 5, 6})"
   ],
   "metadata": {
    "collapsed": false,
    "pycharm": {
     "name": "#%%\n"
    }
   }
  },
  {
   "cell_type": "markdown",
   "source": [
    "The most probable events can be obtained from"
   ],
   "metadata": {
    "collapsed": false,
    "pycharm": {
     "name": "#%% md\n"
    }
   }
  },
  {
   "cell_type": "code",
   "execution_count": 62,
   "outputs": [
    {
     "data": {
      "text/plain": "(0.16666666666666666, {1, 2, 3, 4, 5, 6})"
     },
     "execution_count": 62,
     "metadata": {},
     "output_type": "execute_result"
    }
   ],
   "source": [
    "fair_die.mpe()"
   ],
   "metadata": {
    "collapsed": false,
    "pycharm": {
     "name": "#%%\n"
    }
   }
  },
  {
   "cell_type": "markdown",
   "source": [
    "which are, of course, all values in the uniform distribution at hand."
   ],
   "metadata": {
    "collapsed": false,
    "pycharm": {
     "name": "#%% md\n"
    }
   }
  },
  {
   "cell_type": "markdown",
   "source": [
    "### Manipulating Distributions\n",
    "\n",
    "We can manipulate an integer distribution by \"cropping\" it to a selection of allowed values. All other value will be assigned 0 probability and the remaining values' probability mass gets adjusted proportionally:\n"
   ],
   "metadata": {
    "collapsed": false,
    "pycharm": {
     "name": "#%% md\n"
    }
   }
  },
  {
   "cell_type": "code",
   "execution_count": 63,
   "outputs": [
    {
     "data": {
      "text/plain": "<Figure size 640x480 with 1 Axes>",
      "image/png": "[encoded data removed]"
     },
     "metadata": {},
     "output_type": "display_data"
    }
   ],
   "source": [
    "biased_dice = fair_die.crop({1, 2, 3})\n",
    "biased_dice.plot(view=True)"
   ],
   "metadata": {
    "collapsed": false,
    "pycharm": {
     "name": "#%%\n"
    }
   }
  },
  {
   "cell_type": "markdown",
   "source": [
    "Note that the original distribution has remained untouched by this operation:"
   ],
   "metadata": {
    "collapsed": false,
    "pycharm": {
     "name": "#%% md\n"
    }
   }
  },
  {
   "cell_type": "code",
   "execution_count": 64,
   "outputs": [
    {
     "data": {
      "text/plain": "<Die p=[1: 0.167; 2: 0.167; 3: 0.167; 4: 0.167; 5: 0.167; 6: 0.167]>"
     },
     "execution_count": 64,
     "metadata": {},
     "output_type": "execute_result"
    }
   ],
   "source": [
    "fair_die\n"
   ],
   "metadata": {
    "collapsed": false,
    "pycharm": {
     "name": "#%%\n"
    }
   }
  },
  {
   "cell_type": "markdown",
   "source": [
    "### Learning Distributions from Data\n",
    "\n",
    "We can use the instantiated object for conducting experiments with the distribution using its [sample()](../autoapi/jpt/distributions/univariate/index.html#jpt.distributions.univariate.Distribution.sample) method:"
   ],
   "metadata": {
    "collapsed": false,
    "pycharm": {
     "name": "#%% md\n"
    }
   }
  },
  {
   "cell_type": "code",
   "execution_count": 65,
   "outputs": [
    {
     "data": {
      "text/plain": "<Figure size 640x480 with 1 Axes>",
      "image/png": "[encoded data removed]"
     },
     "metadata": {},
     "output_type": "display_data"
    }
   ],
   "source": [
    "from matplotlib import pyplot as plt\n",
    "data = list(fair_die.sample(1000))\n",
    "plt.hist(data)\n",
    "plt.show()"
   ],
   "metadata": {
    "collapsed": false,
    "pycharm": {
     "name": "#%%\n"
    }
   }
  },
  {
   "cell_type": "markdown",
   "source": [
    "The parameters of a distribution can be learnt from data using its ``fit()`` method:"
   ],
   "metadata": {
    "collapsed": false,
    "pycharm": {
     "name": "#%% md\n"
    }
   }
  },
  {
   "cell_type": "markdown",
   "source": [],
   "metadata": {
    "collapsed": false,
    "pycharm": {
     "name": "#%% md\n"
    }
   }
  },
  {
   "cell_type": "code",
   "execution_count": 66,
   "outputs": [
    {
     "data": {
      "text/plain": "<Figure size 640x480 with 1 Axes>",
      "image/png": "[encoded data removed]"
     },
     "metadata": {},
     "output_type": "display_data"
    }
   ],
   "source": [
    "learnt_die = Die()\n",
    "learnt_die.fit(np.array(data))\n",
    "learnt_die.plot(view=True)"
   ],
   "metadata": {
    "collapsed": false,
    "pycharm": {
     "name": "#%%\n"
    }
   }
  },
  {
   "cell_type": "markdown",
   "source": [
    "## Continuous Domains & Distributions\n",
    "\n",
    "The ``pyjpt`` package provides means for representing and acquiring probabilty distributions of any arbitrary shape over continuous variable domains. As the probability of an event is defined as the area under the probability density function (PDF), single scalar values of variables have 0 probability mass in continuous probability spaces. Therefore, events with non-zero probability must be specified by means of intervals, i.e. continuous sets in $\\mathds{R}$.\n",
    "\n",
    "### Real-valued Sets\n",
    "\n",
    "``pyjpt`` implements real-valued interval calculus in the [jpt.base.intervals](../autoapi/jpt/base/intervals/index.html) package. Intervals can be represented by instances of the [jpt.base.intervals.ContinuousSet](../autoapi/jpt/base/intervals/index.html#jpt.base.intervals.ContinuousSet) class:"
   ],
   "metadata": {
    "collapsed": false,
    "pycharm": {
     "name": "#%% md\n"
    }
   }
  },
  {
   "cell_type": "code",
   "execution_count": 67,
   "outputs": [
    {
     "data": {
      "text/plain": "(<ContinuousSet=[0.000,1.000]>, <ContinuousSet=]2.000,∞[>)"
     },
     "execution_count": 67,
     "metadata": {},
     "output_type": "execute_result"
    }
   ],
   "source": [
    "from jpt.base.intervals import ContinuousSet\n",
    "i1 = ContinuousSet(0, 1)\n",
    "i2 = ContinuousSet.parse(']2,inf[')\n",
    "i1, i2"
   ],
   "metadata": {
    "collapsed": false,
    "pycharm": {
     "name": "#%%\n"
    }
   }
  },
  {
   "cell_type": "markdown",
   "source": [
    "The ``ContinuousSet`` class supports both closed, open, and half-open intervals. We can use the [sample()](../autoapi/jpt/base/intervals/index.html#jpt.base.intervals.ContinuousSet.sample) method to draw random samples from the interval,"
   ],
   "metadata": {
    "collapsed": false,
    "pycharm": {
     "name": "#%% md\n"
    }
   }
  },
  {
   "cell_type": "code",
   "execution_count": 68,
   "outputs": [
    {
     "data": {
      "text/plain": "array([0.620896  , 0.7204676 , 0.69569775, 0.90910982, 0.54725943,\n       0.24634574, 0.87016318, 0.0818139 , 0.5648457 , 0.74583764])"
     },
     "execution_count": 68,
     "metadata": {},
     "output_type": "execute_result"
    }
   ],
   "source": [
    "i1.sample(10)"
   ],
   "metadata": {
    "collapsed": false,
    "pycharm": {
     "name": "#%%\n"
    }
   }
  },
  {
   "cell_type": "markdown",
   "source": [
    "and apply the common set operations like [union()](../autoapi/jpt/base/intervals/index.html#jpt.base.intervals.ContinuousSet.union), [intersection()](../autoapi/jpt/base/intervals/index.html#jpt.base.intervals.ContinuousSet.intersection) or [difference()](../autoapi/jpt/base/intervals/index.html#jpt.base.intervals.ContinuousSet.difference):"
   ],
   "metadata": {
    "collapsed": false,
    "pycharm": {
     "name": "#%% md\n"
    }
   }
  },
  {
   "cell_type": "code",
   "execution_count": 69,
   "outputs": [
    {
     "data": {
      "text/plain": "<ContinuousSet=[0.250,0.750]>"
     },
     "execution_count": 69,
     "metadata": {},
     "output_type": "execute_result"
    }
   ],
   "source": [
    "i1.intersection(ContinuousSet(.25, .75))"
   ],
   "metadata": {
    "collapsed": false,
    "pycharm": {
     "name": "#%%\n"
    }
   }
  },
  {
   "cell_type": "code",
   "execution_count": 74,
   "outputs": [
    {
     "data": {
      "text/plain": "<ContinuousSet=[0.000,0.750[>"
     },
     "execution_count": 74,
     "metadata": {},
     "output_type": "execute_result"
    }
   ],
   "source": [
    "from jpt.base.intervals import EXC\n",
    "\n",
    "i1.difference(ContinuousSet(.75, np.inf, right=EXC))"
   ],
   "metadata": {
    "collapsed": false,
    "pycharm": {
     "name": "#%%\n"
    }
   }
  },
  {
   "cell_type": "code",
   "execution_count": 71,
   "outputs": [
    {
     "data": {
      "text/plain": "<RealSet=[<ContinuousSet=[0.000,1.000]>; <ContinuousSet=]2.000,∞[>]>"
     },
     "execution_count": 71,
     "metadata": {},
     "output_type": "execute_result"
    }
   ],
   "source": [
    "i3 = i1.union(i2)\n",
    "i3"
   ],
   "metadata": {
    "collapsed": false,
    "pycharm": {
     "name": "#%%\n"
    }
   }
  },
  {
   "cell_type": "markdown",
   "source": [
    "Note that, in the latter case, the result of the union operation is a [RealSet](../autoapi/jpt/base/intervals/index.html#jpt.base.intervals.RealSet) instance. ``RealSet``s are disjunctions of discontiguous ``ContinuousSet``s and provide the same operational protocol as regular sets."
   ],
   "metadata": {
    "collapsed": false,
    "pycharm": {
     "name": "#%% md\n"
    }
   }
  },
  {
   "cell_type": "code",
   "execution_count": 83,
   "outputs": [
    {
     "data": {
      "text/plain": "(True, False, 1)"
     },
     "execution_count": 83,
     "metadata": {},
     "output_type": "execute_result"
    }
   ],
   "source": [
    ".5 in i3, 1.5 in i3, i3.contains_interval(ContinuousSet.parse('[.5,.6]'))"
   ],
   "metadata": {
    "collapsed": false,
    "pycharm": {
     "name": "#%%\n"
    }
   }
  },
  {
   "cell_type": "markdown",
   "source": [],
   "metadata": {
    "collapsed": false,
    "pycharm": {
     "name": "#%% md\n"
    }
   }
  },
  {
   "cell_type": "markdown",
   "source": [
    "## Symbolic Domains & Distributions"
   ],
   "metadata": {
    "collapsed": false,
    "pycharm": {
     "name": "#%% md\n"
    }
   }
  },
  {
   "cell_type": "code",
   "execution_count": 84,
   "outputs": [
    {
     "data": {
      "text/plain": "jpt.distributions.univariate.Coin"
     },
     "execution_count": 84,
     "metadata": {},
     "output_type": "execute_result"
    }
   ],
   "source": [
    "from jpt.distributions import SymbolicType\n",
    "\n",
    "Coin = SymbolicType('Coin', labels=['Head', 'Tail'])\n",
    "Coin"
   ],
   "metadata": {
    "collapsed": false,
    "pycharm": {
     "name": "#%%\n"
    }
   }
  },
  {
   "cell_type": "code",
   "execution_count": 85,
   "outputs": [
    {
     "data": {
      "text/plain": "<Figure size 640x480 with 1 Axes>",
      "image/png": "[encoded data removed]"
     },
     "metadata": {},
     "output_type": "display_data"
    },
    {
     "data": {
      "text/plain": "<Figure size 640x480 with 1 Axes>",
      "image/png": "[encoded data removed]"
     },
     "metadata": {},
     "output_type": "display_data"
    }
   ],
   "source": [
    "fair_coin = Coin().set([.5] * 2)\n",
    "fair_coin.plot(view=True)\n",
    "\n",
    "biased_coin = Coin().set([.3, .7])\n",
    "biased_coin.plot(view=True)"
   ],
   "metadata": {
    "collapsed": false,
    "pycharm": {
     "name": "#%%\n"
    }
   }
  },
  {
   "cell_type": "code",
   "execution_count": 86,
   "outputs": [
    {
     "ename": "TypeError",
     "evalue": "Argument must be iterable (got <class 'str'>).",
     "output_type": "error",
     "traceback": [
      "\u001B[0;31m---------------------------------------------------------------------------\u001B[0m",
      "\u001B[0;31mTypeError\u001B[0m                                 Traceback (most recent call last)",
      "Cell \u001B[0;32mIn[86], line 1\u001B[0m\n\u001B[0;32m----> 1\u001B[0m \u001B[43mbiased_coin\u001B[49m\u001B[38;5;241;43m.\u001B[39;49m\u001B[43mp\u001B[49m\u001B[43m(\u001B[49m\u001B[38;5;124;43m'\u001B[39;49m\u001B[38;5;124;43mHead\u001B[39;49m\u001B[38;5;124;43m'\u001B[39;49m\u001B[43m)\u001B[49m\n",
      "File \u001B[0;32m~/code/jpt-dev/src/jpt/distributions/univariate.py:937\u001B[0m, in \u001B[0;36mMultinomial.p\u001B[0;34m(self, labels)\u001B[0m\n\u001B[1;32m    935\u001B[0m \u001B[38;5;28;01mdef\u001B[39;00m \u001B[38;5;21mp\u001B[39m(\u001B[38;5;28mself\u001B[39m, labels):\n\u001B[1;32m    936\u001B[0m     \u001B[38;5;28;01mif\u001B[39;00m \u001B[38;5;129;01mnot\u001B[39;00m \u001B[38;5;28misinstance\u001B[39m(labels, (\u001B[38;5;28mset\u001B[39m, \u001B[38;5;28mlist\u001B[39m, \u001B[38;5;28mtuple\u001B[39m, np\u001B[38;5;241m.\u001B[39mndarray)):\n\u001B[0;32m--> 937\u001B[0m         \u001B[38;5;28;01mraise\u001B[39;00m \u001B[38;5;167;01mTypeError\u001B[39;00m(\u001B[38;5;124m'\u001B[39m\u001B[38;5;124mArgument must be iterable (got \u001B[39m\u001B[38;5;132;01m%s\u001B[39;00m\u001B[38;5;124m).\u001B[39m\u001B[38;5;124m'\u001B[39m \u001B[38;5;241m%\u001B[39m \u001B[38;5;28mtype\u001B[39m(labels))\n\u001B[1;32m    938\u001B[0m     \u001B[38;5;28;01mreturn\u001B[39;00m \u001B[38;5;28mself\u001B[39m\u001B[38;5;241m.\u001B[39m_p(\u001B[38;5;28mself\u001B[39m\u001B[38;5;241m.\u001B[39mvalues[label] \u001B[38;5;28;01mfor\u001B[39;00m label \u001B[38;5;129;01min\u001B[39;00m labels)\n",
      "\u001B[0;31mTypeError\u001B[0m: Argument must be iterable (got <class 'str'>)."
     ]
    }
   ],
   "source": [
    "biased_coin.p('Head')"
   ],
   "metadata": {
    "collapsed": false,
    "pycharm": {
     "name": "#%%\n"
    }
   }
  },
  {
   "cell_type": "code",
   "execution_count": null,
   "outputs": [],
   "source": [
    "biased_coin.mpe()"
   ],
   "metadata": {
    "collapsed": false
   }
  },
  {
   "cell_type": "markdown",
   "source": [
    "# Random Variables\n",
    "\n",
    "In ``pyjpt``, random variables are instances of the [jpt.variables.Variable](../autoapi/jpt/variables/index.html#jpt.variables.Variable) class. ``jpt.Variable`` itself is abstract so it cannot be instantiated directly. There exist three subclasses\n",
    "\n",
    "  * [jpt.variables.SymbolicVariable](../autoapi/jpt/variables/index.html#jpt.variables.SymbolicVariable)\n",
    "  * [jpt.variables.NumericVariable](../autoapi/jpt/variables/index.html#jpt.variables.NumericVariable)\n",
    "  * [jpt.variables.IntegerVariable](../autoapi/jpt/variables/index.html#jpt.variables.IntegerVariable)\n",
    "\n",
    "that implement the behavior of a variable of the respective type.\n",
    "\n",
    "A variable is determined by its name and domain, which are passed as arguments in the variable object's constructor.\n",
    "For instance, in order to instantiate two variables representing the result of the above coin tossing and dicing experiments, we create one integer and symbolic variable:"
   ],
   "metadata": {
    "collapsed": false
   }
  },
  {
   "cell_type": "code",
   "execution_count": 88,
   "outputs": [
    {
     "data": {
      "text/plain": "(CoinToss[Coin], Dice[Die])"
     },
     "execution_count": 88,
     "metadata": {},
     "output_type": "execute_result"
    }
   ],
   "source": [
    "from jpt.variables import SymbolicVariable, IntegerVariable\n",
    "\n",
    "coin = SymbolicVariable('CoinToss', domain=Coin)\n",
    "die = IntegerVariable('Dice', domain=Die)\n",
    "\n",
    "coin, die"
   ],
   "metadata": {
    "collapsed": false
   }
  },
  {
   "cell_type": "markdown",
   "source": [
    "A variable object as such does not have much funcionality. Its main purpose is to bind a particular symbol in the domain of discource to the set of admissible values and to carry settings that are relevant for the learning and inference process."
   ],
   "metadata": {
    "collapsed": false
   }
  },
  {
   "cell_type": "markdown",
   "source": [
    "# Variable Assignments\n",
    "\n",
    "The datastructure that describes questions and answers in JPTs are almost always [jpt.variables.VariableAssignment](../autoapi/jpt/variables/index.html#jpt.variable.VariableAssignment).\n",
    "A VariableAssignment, as the name suggests, assigns instances of [jpt.variables.Variable](../autoapi/jpt/variables/index.html#jpt.variable.Variable) reference to values of their doamin.\n",
    "When creating queries and evidences for a JPT one is required to create VariableMaps or dict that map string to variable\n",
    "values. Variable values can be one of the following things\n",
    "\n",
    "  * singular values:\n",
    "    Singular values refer to numbers (ints or floats) for numeric variables or one element of a variables domain\n",
    "    (most likely a string or int or float)\n",
    "\n",
    "  * sets:\n",
    "    For discrete variables a set should be a python set of elements of a variables domain. For numeric variables it can\n",
    "    be either a ContinuousSet or RealSet. A ContinuousSet is a simple interval with lower and upper bound.\n",
    "    A RealSet is a set of intervals in the same sense as for discrete variables. Those sets are interpreted as\n",
    "    the statement: the value of variables x A or B or C for a something like ``{\"A\", \"B\", \"C\"}``"
   ],
   "metadata": {
    "collapsed": false
   }
  }
 ],
 "metadata": {
  "kernelspec": {
   "display_name": "Python 3",
   "language": "python",
   "name": "python3"
  },
  "language_info": {
   "codemirror_mode": {
    "name": "ipython",
    "version": 2
   },
   "file_extension": ".py",
   "mimetype": "text/x-python",
   "name": "python",
   "nbconvert_exporter": "python",
   "pygments_lexer": "ipython2",
   "version": "2.7.6"
  }
 },
 "nbformat": 4,
 "nbformat_minor": 0
}