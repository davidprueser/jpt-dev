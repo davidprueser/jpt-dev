{
 "cells": [
  {
   "cell_type": "markdown",
   "source": [
    "# Important Datastructures\n",
    "\n",
    "In this tutorial we will walk through important datastructures that users will encounter while using ``pyjpt``.\n",
    "\n",
    "## Sets\n",
    "\n",
    "As sets are ubiquitous objects of interest in almost every mathematical theory ``pyjpt`` provides fast and flexible implementations of all kinds of sets.\n",
    "\n",
    "### Discrete Sets\n",
    "\n",
    "Domains of [jpt.variables.SymbolicVariable](../autoapi/jpt/variables/index.html#jpt.variables.SymbolicVariable) and [jpt.variables.IntegerVariable](../autoapi/jpt/variables/index.html#jpt.variables.IntegerVariable) are ordinary python sets. These can be constructed by calling the python set constructor."
   ],
   "metadata": {
    "collapsed": false
   }
  },
  {
   "cell_type": "code",
   "execution_count": 76,
   "outputs": [],
   "source": [
    "symbolic_set = {\"Dog\", \"Cat\", \"Mouse\"}\n",
    "integer_set = {1, 2, 3}"
   ],
   "metadata": {
    "collapsed": false
   }
  },
  {
   "cell_type": "markdown",
   "source": [
    "For [jpt.variables.SymbolicVariable](../autoapi/jpt/variables/index.html#jpt.variables.SymbolicVariable)  a set of strings is usable and for [jpt.variables.IntegerVariable](../autoapi/jpt/variables/index.html#jpt.variables.IntegerVariable) a set of integers is required.\n",
    "\n",
    "### Continuous Sets\n",
    "\n",
    "As real world applications often contain variables with a continuous domain ``pyjpt`` implements [jpt.base.intervals.ContinuousSet](../autoapi/jpt/base/intervals.html#jpt.base.intervals.ContinuousSet) and  [jpt.base.intervals.RealSet](../autoapi/jpt/base/intervals.html#jpt.base.intervals.RealSet) as domain for\n",
    "[numeric random variables](../autoapi/jpt/variables/index.html#jpt.variables.NumericVariable).\n",
    "Continuous sets represent intervals on $\\mathbb{R}$ and work very similar to python sets. A continuous set can be created by importing the package and\n",
    "   * calling the constructor\n",
    "   * parsing it from string\n",
    "   * parsing it from list"
   ],
   "metadata": {
    "collapsed": false
   }
  },
  {
   "cell_type": "code",
   "execution_count": 77,
   "outputs": [
    {
     "data": {
      "text/plain": "(<ContinuousSet=[0.000,1.000]>,\n <ContinuousSet=[1.000,2.000[>,\n <ContinuousSet=[-1.000,1.000]>)"
     },
     "execution_count": 77,
     "metadata": {},
     "output_type": "execute_result"
    }
   ],
   "source": [
    "from jpt.base.intervals import ContinuousSet\n",
    "from jpt.base.utils import list2interval\n",
    "\n",
    "a = ContinuousSet(0, 1)\n",
    "b = ContinuousSet.fromstring(\"[1, 2)\")\n",
    "c = list2interval([-1, 1])\n",
    "\n",
    "a, b, c"
   ],
   "metadata": {
    "collapsed": false
   }
  },
  {
   "cell_type": "markdown",
   "source": [
    "The usual set operators are also applicable on continuous sets."
   ],
   "metadata": {
    "collapsed": false
   }
  },
  {
   "cell_type": "code",
   "execution_count": 78,
   "outputs": [
    {
     "data": {
      "text/plain": "(<ContinuousSet=[0.000,2.000[>,\n <ContinuousSet=[0.000,1.000[>,\n <ContinuousSet=[0.000,1.000]>)"
     },
     "execution_count": 78,
     "metadata": {},
     "output_type": "execute_result"
    }
   ],
   "source": [
    "a_union_b = a.union(b)\n",
    "a_difference_b = a.difference(b)\n",
    "a_intersection_c = a.intersection(c)\n",
    "\n",
    "a_union_b, a_difference_b, a_intersection_c"
   ],
   "metadata": {
    "collapsed": false
   }
  },
  {
   "cell_type": "markdown",
   "source": [
    "It should be noted that sets can also be empty or contain only one single element."
   ],
   "metadata": {
    "collapsed": false
   }
  },
  {
   "cell_type": "code",
   "execution_count": 79,
   "outputs": [
    {
     "name": "stdout",
     "output_type": "stream",
     "text": [
      "Empty set through Construction (∅) and intersection (∅)\n",
      "Set with only one element {1.0}\n"
     ]
    }
   ],
   "source": [
    "from jpt.base.intervals import EMPTY\n",
    "d = EMPTY\n",
    "print(\"Empty set through Construction (%s) and intersection (%s)\" % (d, b.intersection(ContinuousSet(2,100))))\n",
    "\n",
    "single_element_set = b.intersection(c)\n",
    "print(\"Set with only one element %s\" % single_element_set)"
   ],
   "metadata": {
    "collapsed": false
   }
  },
  {
   "cell_type": "markdown",
   "source": [
    "Applying arbitrary operations on continuous sets can produce [real sets](../autoapi/jpt/base/intervals/index.html#jpt.base.intervals.RealSet). These are disjoint unions of continuous sets.\n",
    "Additionally real sets can be constructed by their constructors or from strings."
   ],
   "metadata": {
    "collapsed": false
   }
  },
  {
   "cell_type": "code",
   "execution_count": 80,
   "outputs": [
    {
     "name": "stdout",
     "output_type": "stream",
     "text": [
      "RealSet from set operations [-1.0,0.0[ ∪ ]1.0,2.0[\n",
      "RealSet from construction [-1.0,1.0] ∪ [100.0,200.0]\n"
     ]
    }
   ],
   "source": [
    "from jpt.base.intervals import RealSet\n",
    "\n",
    "c_union_b_difference_a = c.union(b).difference(a)\n",
    "\n",
    "print(\"RealSet from set operations %s\" % c_union_b_difference_a)\n",
    "\n",
    "e = RealSet([c, list2interval([100, 200])])\n",
    "print(\"RealSet from construction %s\" % e)\n"
   ],
   "metadata": {
    "collapsed": false
   }
  },
  {
   "cell_type": "markdown",
   "source": [
    "Real sets can also be simplified. The simplification ensures that all sets are disjoint."
   ],
   "metadata": {
    "collapsed": false
   }
  },
  {
   "cell_type": "code",
   "execution_count": 81,
   "outputs": [
    {
     "name": "stdout",
     "output_type": "stream",
     "text": [
      "Not simplified RealSet [0.0,2.0[ ∪ [1.0,2.0[; Simplified RealSet [0.0,2.0[\n"
     ]
    }
   ],
   "source": [
    "joint_real_set = RealSet([a, b])\n",
    "print(\"Not simplified RealSet %s; Simplified RealSet %s\" % (joint_real_set, joint_real_set.simplify()))"
   ],
   "metadata": {
    "collapsed": false
   }
  },
  {
   "cell_type": "markdown",
   "source": [
    "## Variable Assignments\n",
    "\n",
    "All kinds of information that is passed to JPTs is stored in VariableAssignments. VariableAssignments are either LabelAssignments or ValueAssignments. For users, LabelAssignments are the more interesting datastructure. LabelAssignments are extensions of dictionaries in python that map variables to values. Semantically they describe the (partial) information that an agent provides to the probability distributions. The easiest method to create them, is by binding python dictionaries through the jpt.trees.JPT.bind method. Additionally they can be created through\n",
    "   * their constructor\n",
    "   * from ValueAssignments\n",
    "   * through the jpt.trees.JPT._preprocess_query method.\n",
    "The latter should only be used by developers, as indicted by the _ in the beginning of the function name.\n",
    "Also, dictionary like updating is supported.\n",
    "\n",
    "To create LabelAssignments through JPTs we first have to fit one. For that we will use the iris toy-datasets."
   ],
   "metadata": {
    "collapsed": false
   }
  },
  {
   "cell_type": "code",
   "execution_count": 82,
   "outputs": [
    {
     "name": "stdout",
     "output_type": "stream",
     "text": [
      "Bounded query from python dictionary <LabelAssignment {leaf: {'setosa', 'versicolor'}, sepal length (cm): <ContinuousSet=[5.000,6.000]>}>\n",
      "Direct construction of a LabelAssignment <LabelAssignment {leaf: {'setosa', 'versicolor'}, sepal length (cm): <ContinuousSet=[5.000,6.000]>}>\n"
     ]
    }
   ],
   "source": [
    "import pandas as pd\n",
    "import jpt.trees\n",
    "import jpt.variables\n",
    "from jpt import infer_from_dataframe\n",
    "import sklearn.datasets\n",
    "\n",
    "dataset, y = sklearn.datasets.load_iris(as_frame=True, return_X_y=True)\n",
    "\n",
    "for idx, name in enumerate(['setosa', 'versicolor', 'virginica']):\n",
    "    y[y==idx] = name\n",
    "\n",
    "dataset[\"leaf\"] = y\n",
    "\n",
    "model = jpt.trees.JPT(infer_from_dataframe(dataset), min_samples_leaf=0.1)\n",
    "model.fit(dataset)\n",
    "\n",
    "# create the LabelAssignment through binding\n",
    "query = {\"leaf\" : {\"setosa\", \"versicolor\"},\n",
    "         \"sepal length (cm)\" : [5,6]}\n",
    "\n",
    "bounded = model.bind(query)\n",
    "print(\"Bounded query from python dictionary %s\" % bounded)\n",
    "\n",
    "# create it through direct constructor calling\n",
    "query_ = jpt.variables.LabelAssignment({model.varnames[\"leaf\"]: {\"setosa\", \"versicolor\"}}.items())\n",
    "query_[model.varnames[\"sepal length (cm)\"]] = list2interval([5,6])\n",
    "print(\"Direct construction of a LabelAssignment %s\" % query_)"
   ],
   "metadata": {
    "collapsed": false
   }
  },
  {
   "cell_type": "markdown",
   "source": [
    "ValueAssignments are very similar to LabelAssignments. However, they use representation of variables inside of trees, i.e. every discrete value is replaced by its index in distributions and continuous sets are scaled with respect to the preprocessing of the variables. ValueAssignments can be created like LabelAssignments; they also can be converted from one to the other by calling the respective method."
   ],
   "metadata": {
    "collapsed": false
   }
  },
  {
   "cell_type": "markdown",
   "source": [],
   "metadata": {
    "collapsed": false
   }
  },
  {
   "cell_type": "code",
   "execution_count": 83,
   "outputs": [
    {
     "name": "stdout",
     "output_type": "stream",
     "text": [
      "Intern Representation of the query from the previous example %s <ValueAssignment {leaf: {0, 1}, sepal length (cm): <ContinuousSet=[-0.983,-0.011]>}>\n",
      "Extern Representation of the query from the previous example %s <LabelAssignment {leaf: {'setosa', 'versicolor'}, sepal length (cm): <ContinuousSet=[5.000,6.000]>}>\n"
     ]
    }
   ],
   "source": [
    "print(\"Intern Representation of the query from the previous example %s\", bounded.value_assignment())\n",
    "print(\"Extern Representation of the query from the previous example %s\", bounded.value_assignment().label_assignment())"
   ],
   "metadata": {
    "collapsed": false
   }
  }
 ],
 "metadata": {
  "kernelspec": {
   "display_name": "Python 3",
   "language": "python",
   "name": "python3"
  },
  "language_info": {
   "codemirror_mode": {
    "name": "ipython",
    "version": 2
   },
   "file_extension": ".py",
   "mimetype": "text/x-python",
   "name": "python",
   "nbconvert_exporter": "python",
   "pygments_lexer": "ipython2",
   "version": "2.7.6"
  }
 },
 "nbformat": 4,
 "nbformat_minor": 0
}
