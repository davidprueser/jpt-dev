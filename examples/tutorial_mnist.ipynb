{
 "cells": [
  {
   "cell_type": "markdown",
   "source": [
    "# MNIST Handwritten Digit Recognition\n",
    "\n",
    "The MNIST Handwritten Digit Recognition problem consists of 8x8 pictures and labels from 0-9 describing the number\n",
    "that is depicted on a picture.\n",
    "\n",
    "To get started we first have to load the dataset from sklearn."
   ],
   "metadata": {
    "collapsed": false
   }
  },
  {
   "cell_type": "code",
   "execution_count": 1,
   "outputs": [],
   "source": [
    "from sklearn.datasets import load_digits"
   ],
   "metadata": {
    "collapsed": false,
    "ExecuteTime": {
     "start_time": "2023-04-13T15:46:21.945830Z",
     "end_time": "2023-04-13T15:46:22.182108Z"
    }
   }
  },
  {
   "cell_type": "markdown",
   "source": [
    "In \"regular\" machine learning a conditional distribution P(Q|E) is approximated.\n",
    "However, as the name JPT suggests, we are interested in the joint distribution P(Q,E).\n",
    "Therefore, we have to load all the data (images and labels) in one dataframe."
   ],
   "metadata": {
    "collapsed": false
   }
  },
  {
   "cell_type": "code",
   "execution_count": 2,
   "outputs": [],
   "source": [
    "dataset = load_digits(as_frame=True)\n",
    "df = dataset.data\n",
    "df[\"digit\"] = dataset.target"
   ],
   "metadata": {
    "collapsed": false,
    "ExecuteTime": {
     "start_time": "2023-04-13T15:46:22.182934Z",
     "end_time": "2023-04-13T15:46:22.343263Z"
    }
   }
  },
  {
   "cell_type": "markdown",
   "source": [
    "Next we have to create variables that can be used in the JPT package.\n",
    "Firstly we have to import the necessary functionality. We will infer the variables from the dataframe without standardizing the numeric ones."
   ],
   "metadata": {
    "collapsed": false
   }
  },
  {
   "cell_type": "code",
   "execution_count": 3,
   "outputs": [
    {
     "data": {
      "text/plain": "[pixel_0_0[Numeric],\n pixel_0_1[Numeric],\n pixel_0_2[Numeric],\n pixel_0_3[Numeric],\n pixel_0_4[Numeric],\n pixel_0_5[Numeric],\n pixel_0_6[Numeric],\n pixel_0_7[Numeric],\n pixel_1_0[Numeric],\n pixel_1_1[Numeric],\n pixel_1_2[Numeric],\n pixel_1_3[Numeric],\n pixel_1_4[Numeric],\n pixel_1_5[Numeric],\n pixel_1_6[Numeric],\n pixel_1_7[Numeric],\n pixel_2_0[Numeric],\n pixel_2_1[Numeric],\n pixel_2_2[Numeric],\n pixel_2_3[Numeric],\n pixel_2_4[Numeric],\n pixel_2_5[Numeric],\n pixel_2_6[Numeric],\n pixel_2_7[Numeric],\n pixel_3_0[Numeric],\n pixel_3_1[Numeric],\n pixel_3_2[Numeric],\n pixel_3_3[Numeric],\n pixel_3_4[Numeric],\n pixel_3_5[Numeric],\n pixel_3_6[Numeric],\n pixel_3_7[Numeric],\n pixel_4_0[Numeric],\n pixel_4_1[Numeric],\n pixel_4_2[Numeric],\n pixel_4_3[Numeric],\n pixel_4_4[Numeric],\n pixel_4_5[Numeric],\n pixel_4_6[Numeric],\n pixel_4_7[Numeric],\n pixel_5_0[Numeric],\n pixel_5_1[Numeric],\n pixel_5_2[Numeric],\n pixel_5_3[Numeric],\n pixel_5_4[Numeric],\n pixel_5_5[Numeric],\n pixel_5_6[Numeric],\n pixel_5_7[Numeric],\n pixel_6_0[Numeric],\n pixel_6_1[Numeric],\n pixel_6_2[Numeric],\n pixel_6_3[Numeric],\n pixel_6_4[Numeric],\n pixel_6_5[Numeric],\n pixel_6_6[Numeric],\n pixel_6_7[Numeric],\n pixel_7_0[Numeric],\n pixel_7_1[Numeric],\n pixel_7_2[Numeric],\n pixel_7_3[Numeric],\n pixel_7_4[Numeric],\n pixel_7_5[Numeric],\n pixel_7_6[Numeric],\n pixel_7_7[Numeric],\n digit[DIGIT_TYPE_I]]"
     },
     "execution_count": 3,
     "metadata": {},
     "output_type": "execute_result"
    }
   ],
   "source": [
    "from jpt.variables import infer_from_dataframe\n",
    "variables = infer_from_dataframe(df, scale_numeric_types=False)\n",
    "variables"
   ],
   "metadata": {
    "collapsed": false,
    "ExecuteTime": {
     "start_time": "2023-04-13T15:46:22.343952Z",
     "end_time": "2023-04-13T15:46:22.786125Z"
    }
   }
  },
  {
   "cell_type": "markdown",
   "source": [
    "The \"digit\" variable gets recognized as a numeric variable, which is technically the truth. However, the numeric\n",
    "representation of it is not useful for the representation problem. Therefore, we have to change it to a symbolic\n",
    "variable. To create a variable we need a type and a name."
   ],
   "metadata": {
    "collapsed": false
   }
  },
  {
   "cell_type": "code",
   "execution_count": 4,
   "outputs": [
    {
     "data": {
      "text/plain": "digit[digit]"
     },
     "execution_count": 4,
     "metadata": {},
     "output_type": "execute_result"
    }
   ],
   "source": [
    "from jpt.variables import SymbolicVariable, SymbolicType\n",
    "\n",
    "digit_type = SymbolicType(\"digit\", [i for i in range(10)])\n",
    "digit = SymbolicVariable(\"digit\", digit_type)\n",
    "variables[-1] = digit\n",
    "variables[-1]"
   ],
   "metadata": {
    "collapsed": false,
    "ExecuteTime": {
     "start_time": "2023-04-13T15:46:22.786914Z",
     "end_time": "2023-04-13T15:46:22.790398Z"
    }
   }
  },
  {
   "cell_type": "markdown",
   "source": [
    "Next we have to create the model. We want the model to only acquire new parameters if they are relevant to 30 samples or more."
   ],
   "metadata": {
    "collapsed": false
   }
  },
  {
   "cell_type": "code",
   "execution_count": 5,
   "outputs": [
    {
     "data": {
      "text/plain": "JPT\nNone\n\nJPT stats: #innernodes = 0, #leaves = 0 (0 total)"
     },
     "execution_count": 5,
     "metadata": {},
     "output_type": "execute_result"
    }
   ],
   "source": [
    "import jpt.trees\n",
    "model = jpt.trees.JPT(variables, min_samples_leaf=20)\n",
    "model"
   ],
   "metadata": {
    "collapsed": false,
    "ExecuteTime": {
     "start_time": "2023-04-13T15:46:22.789517Z",
     "end_time": "2023-04-13T15:46:22.800846Z"
    }
   }
  },
  {
   "cell_type": "markdown",
   "source": [
    "To finish the knowledge acquisition part we have to fit the model. This is done sklearn style."
   ],
   "metadata": {
    "collapsed": false
   }
  },
  {
   "cell_type": "code",
   "execution_count": 6,
   "outputs": [
    {
     "data": {
      "text/plain": "JPT\n<DecisionNode #0 digit = [0; ¬0]; parent-#: None; #children: 2>\n    <Leaf #1; parent: <DecisionNode #0>>\n    <DecisionNode #2 digit = [6; ¬6]; parent-#: 0; #children: 2>\n        <Leaf #3; parent: <DecisionNode #2>>\n        <DecisionNode #4 digit = [3; ¬3]; parent-#: 2; #children: 2>\n            <Leaf #5; parent: <DecisionNode #4>>\n            <DecisionNode #6 digit = [4; ¬4]; parent-#: 4; #children: 2>\n                <Leaf #7; parent: <DecisionNode #6>>\n                <DecisionNode #8 digit = [7; ¬7]; parent-#: 6; #children: 2>\n                    <Leaf #9; parent: <DecisionNode #8>>\n                    <DecisionNode #10 digit = [5; ¬5]; parent-#: 8; #children: 2>\n                        <Leaf #11; parent: <DecisionNode #10>>\n                        <DecisionNode #12 digit = [8; ¬8]; parent-#: 10; #children: 2>\n                            <Leaf #13; parent: <DecisionNode #12>>\n                            <DecisionNode #14 digit = [9; ¬9]; parent-#: 12; #children: 2>\n                                <Leaf #15; parent: <DecisionNode #14>>\n                                <DecisionNode #16 digit = [2; ¬2]; parent-#: 14; #children: 2>\n                                    <Leaf #17; parent: <DecisionNode #16>>\n                                    <Leaf #18; parent: <DecisionNode #16>>\n\nJPT stats: #innernodes = 9, #leaves = 10 (19 total)"
     },
     "execution_count": 6,
     "metadata": {},
     "output_type": "execute_result"
    }
   ],
   "source": [
    "model.fit(df)"
   ],
   "metadata": {
    "collapsed": false,
    "ExecuteTime": {
     "start_time": "2023-04-13T15:46:22.799764Z",
     "end_time": "2023-04-13T15:46:23.054633Z"
    }
   }
  },
  {
   "cell_type": "markdown",
   "source": [
    "The easiest way to understand a JPT is through plotting. JPTs get plotted with matplotlib and svgs. Due to their possible enormous size it is advised to open the result svg file with inkscape."
   ],
   "metadata": {
    "collapsed": false
   }
  },
  {
   "cell_type": "code",
   "execution_count": 7,
   "outputs": [],
   "source": [
    "model.plot(directory=\"/tmp/mnist\")"
   ],
   "metadata": {
    "collapsed": false,
    "ExecuteTime": {
     "start_time": "2023-04-13T15:46:23.069931Z",
     "end_time": "2023-04-13T15:46:23.137071Z"
    }
   }
  },
  {
   "cell_type": "markdown",
   "source": [
    "Next we want to see what a 3 most likely looks like. Therefore, we have to use the MPE inference method. In general inference is done through variable maps."
   ],
   "metadata": {
    "collapsed": false
   }
  },
  {
   "cell_type": "code",
   "execution_count": 8,
   "outputs": [
    {
     "data": {
      "text/plain": "[<LabelAssignment {pixel_0_0: <RealSet=[<ContinuousSet=[0.000,0.000[>]>, pixel_0_1: <RealSet=[<ContinuousSet=[0.000,2.000[>]>, pixel_0_2: <RealSet=[<ContinuousSet=[5.000,10.000[>]>, pixel_0_3: <RealSet=[<ContinuousSet=[15.000,16.000[>]>, pixel_0_4: <RealSet=[<ContinuousSet=[15.000,16.000[>]>, pixel_0_5: <RealSet=[<ContinuousSet=[0.000,1.000[>]>, pixel_0_6: <RealSet=[<ContinuousSet=[0.000,1.000[>]>, pixel_0_7: <RealSet=[<ContinuousSet=[0.000,1.000[>]>, pixel_1_0: <RealSet=[<ContinuousSet=[0.000,1.000[>]>, pixel_1_1: <RealSet=[<ContinuousSet=[0.000,7.000[>]>, pixel_1_2: <RealSet=[<ContinuousSet=[14.000,16.000[>]>, pixel_1_3: <RealSet=[<ContinuousSet=[7.000,9.000[>]>, pixel_1_4: <RealSet=[<ContinuousSet=[14.000,16.000[>]>, pixel_1_5: <RealSet=[<ContinuousSet=[15.000,16.000[>]>, pixel_1_6: <RealSet=[<ContinuousSet=[1.000,3.000[>]>, pixel_1_7: <RealSet=[<ContinuousSet=[0.000,2.000[>]>, pixel_2_0: <RealSet=[<ContinuousSet=[0.000,1.000[>]>, pixel_2_1: <RealSet=[<ContinuousSet=[0.000,5.000[>]>, pixel_2_2: <RealSet=[<ContinuousSet=[0.000,3.000[>]>, pixel_2_3: <RealSet=[<ContinuousSet=[0.000,1.000[>]>, pixel_2_4: <RealSet=[<ContinuousSet=[15.000,16.000[>]>, pixel_2_5: <RealSet=[<ContinuousSet=[13.000,16.000[>]>, pixel_2_6: <RealSet=[<ContinuousSet=[0.000,2.000[>]>, pixel_2_7: <RealSet=[<ContinuousSet=[0.000,0.000[>]>, pixel_3_0: <RealSet=[<ContinuousSet=[0.000,0.000[>]>, pixel_3_1: <RealSet=[<ContinuousSet=[0.000,1.000[>]>, pixel_3_2: <RealSet=[<ContinuousSet=[0.000,3.000[>]>, pixel_3_3: <RealSet=[<ContinuousSet=[15.000,16.000[>]>, pixel_3_4: <RealSet=[<ContinuousSet=[14.000,16.000[>]>, pixel_3_5: <RealSet=[<ContinuousSet=[0.000,3.000[>]>, pixel_3_6: <RealSet=[<ContinuousSet=[0.000,3.000[>]>, pixel_3_7: <RealSet=[<ContinuousSet=[0.000,0.000[>]>, pixel_4_0: <RealSet=[<ContinuousSet=[0.000,0.000[>]>, pixel_4_1: <RealSet=[<ContinuousSet=[0.000,5.000[>]>, pixel_4_2: <RealSet=[<ContinuousSet=[0.000,3.000[>]>, pixel_4_3: <RealSet=[<ContinuousSet=[15.000,16.000[>]>, pixel_4_4: <RealSet=[<ContinuousSet=[15.000,16.000[>]>, pixel_4_5: <RealSet=[<ContinuousSet=[14.000,16.000[>]>, pixel_4_6: <RealSet=[<ContinuousSet=[0.000,1.000[>]>, pixel_4_7: <RealSet=[<ContinuousSet=[0.000,0.000[>]>, pixel_5_0: <RealSet=[<ContinuousSet=[0.000,0.000[>]>, pixel_5_1: <RealSet=[<ContinuousSet=[0.000,6.000[>]>, pixel_5_2: <RealSet=[<ContinuousSet=[0.000,1.000[>]>, pixel_5_3: <RealSet=[<ContinuousSet=[0.000,1.000[>]>, pixel_5_4: <RealSet=[<ContinuousSet=[0.000,2.000[>]>, pixel_5_5: <RealSet=[<ContinuousSet=[14.000,16.000[>]>, pixel_5_6: <RealSet=[<ContinuousSet=[6.000,8.000[>]>, pixel_5_7: <RealSet=[<ContinuousSet=[0.000,0.000[>]>, pixel_6_0: <RealSet=[<ContinuousSet=[0.000,0.000[>]>, pixel_6_1: <RealSet=[<ContinuousSet=[0.000,1.000[>]>, pixel_6_2: <RealSet=[<ContinuousSet=[1.000,3.000[>]>, pixel_6_3: <RealSet=[<ContinuousSet=[7.000,8.000[>]>, pixel_6_4: <RealSet=[<ContinuousSet=[4.000,8.000[>]>, pixel_6_5: <RealSet=[<ContinuousSet=[15.000,16.000[>]>, pixel_6_6: <RealSet=[<ContinuousSet=[6.000,8.000[>]>, pixel_6_7: <RealSet=[<ContinuousSet=[0.000,5.000[>]>, pixel_7_0: <RealSet=[<ContinuousSet=[0.000,0.000[>]>, pixel_7_1: <RealSet=[<ContinuousSet=[0.000,2.000[>]>, pixel_7_2: <RealSet=[<ContinuousSet=[4.000,16.000[>]>, pixel_7_3: <RealSet=[<ContinuousSet=[15.000,16.000[>]>, pixel_7_4: <RealSet=[<ContinuousSet=[15.000,16.000[>]>, pixel_7_5: <RealSet=[<ContinuousSet=[7.000,11.000[>]>, pixel_7_6: <RealSet=[<ContinuousSet=[0.000,1.000[>]>, pixel_7_7: <RealSet=[<ContinuousSet=[0.000,8.000[>]>, digit: {3}}>]"
     },
     "execution_count": 8,
     "metadata": {},
     "output_type": "execute_result"
    }
   ],
   "source": [
    "import jpt.variables\n",
    "evidence = jpt.variables.VariableMap()\n",
    "evidence[model.varnames[\"digit\"]] = {3}\n",
    "\n",
    "mpe, likelihood = model.mpe(evidence)\n",
    "mpe"
   ],
   "metadata": {
    "collapsed": false,
    "ExecuteTime": {
     "start_time": "2023-04-13T15:46:23.150805Z",
     "end_time": "2023-04-13T15:46:23.152970Z"
    }
   }
  },
  {
   "cell_type": "markdown",
   "source": [
    "The jpt.trees.JPT.mpe method returns a list of explanations that are all most likely. The list contains jpt.trees.JPT.MPEResult. We will have a look at every maximum. Since we only have one explanation that is\n",
    "most likely we only need to look inside the maxima in that explanation. The maximum property of an MPEResult is a VariableMap that maps symbolic variables to sets and numeric variables to RealSets. This is based on the fact that there can be multiple maxima inside one leaf and therefore the user should be aware of it. Unlike distributions from the exponential families JPTs also return intervals where every value is most likely. Let's investigate and plot the result."
   ],
   "metadata": {
    "collapsed": false
   }
  },
  {
   "cell_type": "code",
   "execution_count": 9,
   "outputs": [
    {
     "data": {
      "text/plain": "<Figure size 432x288 with 1 Axes>",
      "image/png": "[encoded data removed]"
     },
     "metadata": {
      "needs_background": "light"
     },
     "output_type": "display_data"
    }
   ],
   "source": [
    "first_mpe = mpe[0]\n",
    "\n",
    "import numpy as np\n",
    "# create image\n",
    "img = np.zeros((8,8))\n",
    "\n",
    "for variable, explanation in first_mpe.items():\n",
    "\n",
    "    # filter out numeric variables\n",
    "    if variable.numeric:\n",
    "\n",
    "        # get position in image\n",
    "        i, j = int(variable.name[6]), int(variable.name[8])\n",
    "\n",
    "        # get first interval in maximum\n",
    "        interval = explanation.intervals[0]\n",
    "\n",
    "        # set pixel value to center of that interval\n",
    "        img[i,j] = (interval.lower + interval.upper) / 2\n",
    "\n",
    "import matplotlib.pyplot as plt\n",
    "plt.imshow(img, cmap='Greys')\n",
    "plt.show()"
   ],
   "metadata": {
    "collapsed": false,
    "ExecuteTime": {
     "start_time": "2023-04-13T15:46:23.153446Z",
     "end_time": "2023-04-13T15:46:23.236089Z"
    }
   }
  },
  {
   "cell_type": "markdown",
   "source": [
    "As we can see it indeed looks like a 3."
   ],
   "metadata": {
    "collapsed": false
   }
  }
 ],
 "metadata": {
  "kernelspec": {
   "display_name": "Python 3",
   "language": "python",
   "name": "python3"
  },
  "language_info": {
   "codemirror_mode": {
    "name": "ipython",
    "version": 2
   },
   "file_extension": ".py",
   "mimetype": "text/x-python",
   "name": "python",
   "nbconvert_exporter": "python",
   "pygments_lexer": "ipython2",
   "version": "2.7.6"
  }
 },
 "nbformat": 4,
 "nbformat_minor": 0
}
