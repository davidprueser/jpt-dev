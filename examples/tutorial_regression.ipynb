{
 "cells": [
  {
   "cell_type": "markdown",
   "source": [
    "# Regression\n",
    "\n",
    "This example will guide through a very noisy regression problem. First we have to create the regression data. The data will originate from\n",
    "the function $x \\cdot sin(x)$."
   ],
   "metadata": {
    "collapsed": false
   }
  },
  {
   "cell_type": "code",
   "execution_count": null,
   "outputs": [],
   "source": [
    "import pandas as pd\n",
    "import numpy as np\n",
    "\n",
    "def f(x):\n",
    "    return x * np.sin(x)\n",
    "\n",
    "def generate_data(func, x_lower, x_upper, n):\n",
    "    '''\n",
    "    Generate a ``DataFrame`` of ``n`` data samples with additive noise from the function ``func``.\n",
    "    '''\n",
    "    X = np.atleast_2d(np.random.uniform(-20, 0.0, size=int(n / 2))).T\n",
    "    X = np.vstack((np.atleast_2d(np.random.uniform(0, 10.0, size=int(n / 2))).T, X))\n",
    "    X = X.astype(np.float32)\n",
    "    X = np.array(list(sorted(X)))\n",
    "\n",
    "    # Observations\n",
    "    y = func(X).ravel()\n",
    "\n",
    "    # Add some noise\n",
    "    dy = 1.5 + .5 * np.random.random(y.shape)\n",
    "    y += np.random.normal(0, dy)\n",
    "    y = y.astype(np.float32)\n",
    "\n",
    "    return pd.DataFrame(data={'x': X.ravel(), 'y': y})\n",
    "\n",
    "df = generate_data(f, -20, 10, 1000)\n",
    "df"
   ],
   "metadata": {
    "collapsed": false,
    "pycharm": {
     "name": "#%%\n"
    }
   }
  },
  {
   "cell_type": "markdown",
   "source": [
    "Lets have a look at the data visually:"
   ],
   "metadata": {
    "collapsed": false,
    "pycharm": {
     "name": "#%% md\n"
    }
   }
  },
  {
   "cell_type": "code",
   "execution_count": null,
   "outputs": [],
   "source": [
    "import matplotlib\n",
    "import matplotlib.pyplot as plt\n",
    "\n",
    "plt.plot(df['x'].values, df['y'].values, '.', markersize=5, label='Training data')\n",
    "plt.show()"
   ],
   "metadata": {
    "collapsed": false,
    "pycharm": {
     "name": "#%%\n"
    }
   }
  },
  {
   "cell_type": "markdown",
   "source": [
    "We can clearly see the original function, and we can observe that there is more variance towards higher x. In general, we don't want a model that assumes independent noise, and we don't want to specify much prior knowledge since it is only available rarely. Let's specify a JPT that focuses on predicting y accurately."
   ],
   "metadata": {
    "collapsed": false,
    "pycharm": {
     "name": "#%% md\n"
    }
   }
  },
  {
   "cell_type": "code",
   "execution_count": null,
   "outputs": [],
   "source": [
    "from jpt.variables import NumericVariable, VariableMap\n",
    "from jpt.trees import JPT\n",
    "\n",
    "# Construct the variables, soften up x via blur\n",
    "varx = NumericVariable('x', blur=0.05)\n",
    "vary = NumericVariable('y')\n",
    "\n",
    "# enable a focus on the parameters for y with the targets keyword\n",
    "jpt = JPT(variables=[varx, vary], targets=[vary], min_samples_leaf=.01)\n",
    "\n",
    "jpt.learn(data=df)"
   ],
   "metadata": {
    "collapsed": false,
    "pycharm": {
     "name": "#%%\n"
    }
   }
  },
  {
   "cell_type": "markdown",
   "source": [
    "Since the data is 2D we can get a visual representation of the predictions of the JPT. Let's plot the predictions and get an idea of the distribution. We will plot the expectation of y for every datapoint on the x-axis and confidence intervals that explain 95% of the variance."
   ],
   "metadata": {
    "collapsed": false,
    "pycharm": {
     "name": "#%% md\n"
    }
   }
  },
  {
   "cell_type": "code",
   "execution_count": null,
   "outputs": [],
   "source": [
    "# Mesh the input space for evaluations of the real function,\n",
    "# the prediction and its MSE\n",
    "xx = np.atleast_2d(np.linspace(-20, 15, 500)).astype(np.float32).T\n",
    "\n",
    "# Apply the JPT model\n",
    "confidence = .95\n",
    "\n",
    "my_predictions = [jpt.expectation([vary],\n",
    "                                  evidence={varx: x_},\n",
    "                                  confidence_level=confidence,\n",
    "                                  fail_on_unsatisfiability=False) for x_ in xx.ravel()]\n",
    "y_pred_ = [(p[vary].result if p is not None else None) for p in my_predictions]\n",
    "y_lower_ = [(p[vary].lower if p is not None else None) for p in my_predictions]\n",
    "y_upper_ = [(p[vary].upper if p is not None else None) for p in my_predictions]\n",
    "\n",
    "# posterior = jpt.posterior([varx], {vary: 0})\n",
    "\n",
    "# Plot the function, the prediction and the 90% confidence interval based on the MSE\n",
    "plt.plot(xx, f(xx), color='black', linestyle=':', linewidth='2', label=r'$f(x) = x\\,\\sin(x)$')\n",
    "plt.plot(df['x'].values, df['y'].values, '.', color='gray', markersize=5, label='Training data')\n",
    "plt.plot(xx, y_pred_, 'm-', label='JPT Prediction', linewidth=2)\n",
    "plt.plot(xx, y_lower_, 'y--', label='%.1f%% Confidence bands' % (confidence * 100))\n",
    "plt.plot(xx, y_upper_, 'y--')\n",
    "plt.plot(xx, np.array([jpt.pdf(VariableMap([(varx, x_), (vary, 0)])) for x_ in xx.ravel().astype(np.float64)]),\n",
    "         label='Posterior')\n",
    "\n",
    "plt.xlabel('$x$')\n",
    "plt.ylabel('$f(x)$')\n",
    "plt.ylim(-10, 20)\n",
    "plt.xlim(-25, 15)\n",
    "plt.legend(loc='upper left')\n",
    "plt.title(r'2D Regression Example ($\\vartheta=%.2f\\%%$)' % (confidence * 100))\n",
    "plt.grid()\n",
    "plt.rcParams['figure.figsize'] = [40, 20]\n",
    "plt.show()"
   ],
   "metadata": {
    "collapsed": false,
    "pycharm": {
     "name": "#%%\n"
    }
   }
  },
  {
   "cell_type": "markdown",
   "source": [
    "As we can see the expectations and variances predicted by the JPT characterize this dataset well and the variance even adjusts to the different x values. Impressive!"
   ],
   "metadata": {
    "collapsed": false
   }
  }
 ],
 "metadata": {
  "kernelspec": {
   "display_name": "Python 3",
   "language": "python",
   "name": "python3"
  },
  "language_info": {
   "codemirror_mode": {
    "name": "ipython",
    "version": 2
   },
   "file_extension": ".py",
   "mimetype": "text/x-python",
   "name": "python",
   "nbconvert_exporter": "python",
   "pygments_lexer": "ipython2",
   "version": "2.7.6"
  }
 },
 "nbformat": 4,
 "nbformat_minor": 0
}